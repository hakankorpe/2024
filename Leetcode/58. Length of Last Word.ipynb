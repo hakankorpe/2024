{
  "nbformat": 4,
  "nbformat_minor": 0,
  "metadata": {
    "colab": {
      "provenance": []
    },
    "kernelspec": {
      "name": "python3",
      "display_name": "Python 3"
    },
    "language_info": {
      "name": "python"
    }
  },
  "cells": [
    {
      "cell_type": "code",
      "execution_count": null,
      "metadata": {
        "id": "D4mK_uCS_xUV"
      },
      "outputs": [],
      "source": [
        "class Solution:\n",
        "    def lengthOfLastWord(self, s: str) -> int:\n",
        "        return len(s.split()[len(s.split())-1])\n",
        "        #wordList = s.split()\n",
        "        #return len(wordList[len(wordList)-1])"
      ]
    }
  ]
}