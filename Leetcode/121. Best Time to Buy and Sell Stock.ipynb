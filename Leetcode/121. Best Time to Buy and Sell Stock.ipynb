{
  "nbformat": 4,
  "nbformat_minor": 0,
  "metadata": {
    "colab": {
      "provenance": []
    },
    "kernelspec": {
      "name": "python3",
      "display_name": "Python 3"
    },
    "language_info": {
      "name": "python"
    }
  },
  "cells": [
    {
      "cell_type": "code",
      "execution_count": null,
      "metadata": {
        "id": "D4mK_uCS_xUV"
      },
      "outputs": [],
      "source": [
        "class Solution:\n",
        "    def maxProfit(self, prices: List[int]) -> int:\n",
        "        best_score = 0\n",
        "        ltr = 0\n",
        "        rtr = 1\n",
        "\n",
        "        while rtr < len(prices):\n",
        "            if prices[ltr] < prices[rtr]:\n",
        "                score = prices[rtr] - prices[ltr]\n",
        "                best_score = max(score, best_score)\n",
        "            else:\n",
        "                ltr = rtr\n",
        "            rtr +=1\n",
        "\n",
        "        return best_score\n",
        "\n",
        "# Boyer-Moore Voting Algorithm:\n",
        "\"\"\"\n",
        "class Solution:\n",
        "    def maxProfit(self, prices: List[int]) -> int:\n",
        "        max_profit = 0\n",
        "        min_price = float('inf')\n",
        "\n",
        "        for price in prices:\n",
        "            min_price = min(min_price, price)\n",
        "            max_profit = max(max_profit, price - min_price)\n",
        "\n",
        "        return max_profit\n",
        "\n",
        "\"\"\""
      ]
    }
  ]
}