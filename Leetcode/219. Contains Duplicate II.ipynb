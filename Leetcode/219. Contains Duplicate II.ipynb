{
  "nbformat": 4,
  "nbformat_minor": 0,
  "metadata": {
    "colab": {
      "provenance": []
    },
    "kernelspec": {
      "name": "python3",
      "display_name": "Python 3"
    },
    "language_info": {
      "name": "python"
    }
  },
  "cells": [
    {
      "cell_type": "code",
      "execution_count": null,
      "metadata": {
        "id": "D4mK_uCS_xUV"
      },
      "outputs": [],
      "source": [
        "class Solution:\n",
        "    def containsNearbyDuplicate(self, nums: List[int], k: int) -> bool:\n",
        "        \"\"\"\n",
        "        prev, curr = 0, 1\n",
        "        while prev < len(nums):\n",
        "            if curr - prev > k:\n",
        "                prev += 1\n",
        "                curr = prev + 1\n",
        "            elif curr < len(nums) and nums[prev] == nums[curr]:\n",
        "                return True\n",
        "            else:\n",
        "                curr += 1\n",
        "        \"\"\"\n",
        "        window = set()\n",
        "        prev = 0\n",
        "        for curr in range(len(nums)):\n",
        "            if curr - prev > k:\n",
        "                window.remove(nums[prev])\n",
        "                prev +=1\n",
        "            if nums[curr] in window:\n",
        "                return True\n",
        "            window.add(nums[curr])\n",
        "\n",
        "        return False\n"
      ]
    }
  ]
}