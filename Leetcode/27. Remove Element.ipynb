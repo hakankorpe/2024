{
  "nbformat": 4,
  "nbformat_minor": 0,
  "metadata": {
    "colab": {
      "provenance": []
    },
    "kernelspec": {
      "name": "python3",
      "display_name": "Python 3"
    },
    "language_info": {
      "name": "python"
    }
  },
  "cells": [
    {
      "cell_type": "code",
      "execution_count": null,
      "metadata": {
        "id": "D4mK_uCS_xUV"
      },
      "outputs": [],
      "source": [
        "class Solution:\n",
        "    def removeElement(self, nums: List[int], val: int) -> int:\n",
        "        count = 0\n",
        "        ptr1 = 0\n",
        "        ptr2 = len(nums)-1\n",
        "        while ptr1 <= ptr2:\n",
        "            if nums[ptr1] == val:\n",
        "                if nums[ptr2] == val:\n",
        "                    nums[ptr2] = -1\n",
        "                    ptr2 -= 1\n",
        "                else:\n",
        "                    nums[ptr1] = nums[ptr2]\n",
        "                    ptr1 += 1\n",
        "                    ptr2 -= 1\n",
        "                    count += 1\n",
        "            else:\n",
        "                ptr1 += 1\n",
        "                count += 1\n",
        "\n",
        "        print(nums)\n",
        "        return count\n",
        "\n",
        "\n",
        "\"\"\"\n",
        "class Solution:\n",
        "    def removeElement(self, nums: List[int], val: int) -> int:\n",
        "        # Pointer to track the position to which non-target elements should be moved\n",
        "        non_target_ptr = 0\n",
        "\n",
        "        for current_ptr in range(len(nums)):\n",
        "            if nums[current_ptr] != val:\n",
        "                # Move non-target element to the appropriate position\n",
        "                nums[non_target_ptr] = nums[current_ptr]\n",
        "                non_target_ptr += 1\n",
        "\n",
        "        # Return the length of the modified list\n",
        "        return non_target_ptr\n",
        "\"\"\""
      ]
    }
  ]
}