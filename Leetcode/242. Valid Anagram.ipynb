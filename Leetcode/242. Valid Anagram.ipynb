{
  "nbformat": 4,
  "nbformat_minor": 0,
  "metadata": {
    "colab": {
      "provenance": []
    },
    "kernelspec": {
      "name": "python3",
      "display_name": "Python 3"
    },
    "language_info": {
      "name": "python"
    }
  },
  "cells": [
    {
      "cell_type": "code",
      "execution_count": null,
      "metadata": {
        "id": "D4mK_uCS_xUV"
      },
      "outputs": [],
      "source": [
        "class Solution:\n",
        "    def isAnagram(self, s: str, t: str) -> bool:\n",
        "        for i in s:\n",
        "            if i in t:\n",
        "                t = t.replace(i, \"\", 1)\n",
        "                s = s.replace(i, \"\", 1)\n",
        "            else:\n",
        "                return False\n",
        "        if len(t) != 0:\n",
        "            return False\n",
        "        return True\n",
        "\n",
        "\"\"\"\n",
        "class Solution:\n",
        "    def isAnagram(self, s: str, t: str) -> bool:\n",
        "        if len(s) != len(t):\n",
        "            return False\n",
        "\n",
        "        char_count_s = {}\n",
        "        char_count_t = {}\n",
        "\n",
        "        # Count characters in string s\n",
        "        for char in s:\n",
        "            char_count_s[char] = char_count_s.get(char, 0) + 1\n",
        "\n",
        "        # Count characters in string t\n",
        "        for char in t:\n",
        "            char_count_t[char] = char_count_t.get(char, 0) + 1\n",
        "\n",
        "        # Check if both dictionaries are equal\n",
        "        return char_count_s == char_count_t\n",
        "\"\"\""
      ]
    }
  ]
}