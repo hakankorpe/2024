{
  "nbformat": 4,
  "nbformat_minor": 0,
  "metadata": {
    "colab": {
      "provenance": []
    },
    "kernelspec": {
      "name": "python3",
      "display_name": "Python 3"
    },
    "language_info": {
      "name": "python"
    }
  },
  "cells": [
    {
      "cell_type": "code",
      "execution_count": null,
      "metadata": {
        "id": "D4mK_uCS_xUV"
      },
      "outputs": [],
      "source": [
        "class Solution:\n",
        "    def romanToInt(self, s: str) -> int:\n",
        "        num = 0\n",
        "\n",
        "        for i in range(len(s)):\n",
        "            if s[i] == \"I\":\n",
        "                if i+1 < len(s):\n",
        "                    if s[i+1] == \"V\" or s[i+1] == \"X\":\n",
        "                        num -= 1\n",
        "                    else:\n",
        "                        num+= 1\n",
        "                else:\n",
        "                    num+= 1\n",
        "\n",
        "            elif s[i] == \"X\":\n",
        "                if i+1 < len(s):\n",
        "                    if s[i+1] == \"L\" or s[i+1] == \"C\":\n",
        "                        num -= 10\n",
        "                    else:\n",
        "                        num+= 10\n",
        "                else:\n",
        "                    num+= 10\n",
        "            elif s[i] == \"C\":\n",
        "                if i+1 < len(s):\n",
        "                    if s[i+1] == \"D\" or s[i+1] == \"M\":\n",
        "                        num -= 100\n",
        "                    else:\n",
        "                        num+= 100\n",
        "                else:\n",
        "                    num+= 100\n",
        "            elif s[i] == \"V\":\n",
        "                num+= 5\n",
        "            elif s[i] == \"L\":\n",
        "                num+= 50\n",
        "            elif s[i] == \"D\":\n",
        "                num+= 500\n",
        "            else:\n",
        "                num+= 1000\n",
        "\n",
        "        return num"
      ]
    }
  ]
}