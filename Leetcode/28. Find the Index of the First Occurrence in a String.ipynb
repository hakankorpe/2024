{
  "nbformat": 4,
  "nbformat_minor": 0,
  "metadata": {
    "colab": {
      "provenance": []
    },
    "kernelspec": {
      "name": "python3",
      "display_name": "Python 3"
    },
    "language_info": {
      "name": "python"
    }
  },
  "cells": [
    {
      "cell_type": "code",
      "execution_count": null,
      "metadata": {
        "id": "D4mK_uCS_xUV"
      },
      "outputs": [],
      "source": [
        "class Solution:\n",
        "    def strStr(self, haystack: str, needle: str) -> int:\n",
        "        \"\"\"\n",
        "        if needle not in haystack:\n",
        "            return -1\n",
        "        else:\n",
        "            return haystack.index(needle)\n",
        "\"\"\"\n",
        "        if needle == \"\":\n",
        "            return 0\n",
        "\n",
        "        for i in range(len(haystack) + 1 - len(needle)):\n",
        "            if haystack[i: i + len(needle)] == needle:\n",
        "                return i\n",
        "        return -1\n",
        "\n"
      ]
    }
  ]
}