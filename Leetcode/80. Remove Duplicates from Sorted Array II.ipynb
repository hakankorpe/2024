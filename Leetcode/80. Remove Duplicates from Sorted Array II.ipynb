{
  "nbformat": 4,
  "nbformat_minor": 0,
  "metadata": {
    "colab": {
      "provenance": []
    },
    "kernelspec": {
      "name": "python3",
      "display_name": "Python 3"
    },
    "language_info": {
      "name": "python"
    }
  },
  "cells": [
    {
      "cell_type": "code",
      "execution_count": null,
      "metadata": {
        "id": "D4mK_uCS_xUV"
      },
      "outputs": [],
      "source": [
        "class Solution:\n",
        "    def removeDuplicates(self, nums: List[int]) -> int:\n",
        "        numsList = {}\n",
        "        prev_ptr = 0\n",
        "        next_ptr = 1\n",
        "        count = 1\n",
        "        while next_ptr <= len(nums):\n",
        "            if next_ptr == len(nums):\n",
        "                numsList[nums[prev_ptr]] = next_ptr - prev_ptr\n",
        "            elif nums[prev_ptr] == nums[next_ptr] and nums[prev_ptr] not in numsList.keys():\n",
        "                count += 1\n",
        "            else:\n",
        "                numsList[nums[prev_ptr]] = next_ptr - prev_ptr\n",
        "                count = 1\n",
        "                prev_ptr = next_ptr\n",
        "            next_ptr +=1\n",
        "\n",
        "        count = 0\n",
        "        for key, value in numsList.items():\n",
        "            if value == 1:\n",
        "                nums[count] = key\n",
        "                count += 1\n",
        "            else:\n",
        "                nums[count] = key\n",
        "                nums[count+1] = key\n",
        "                count +=2\n",
        "        return count"
      ]
    }
  ]
}