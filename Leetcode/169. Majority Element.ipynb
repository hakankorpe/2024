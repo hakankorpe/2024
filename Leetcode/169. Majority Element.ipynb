{
  "nbformat": 4,
  "nbformat_minor": 0,
  "metadata": {
    "colab": {
      "provenance": []
    },
    "kernelspec": {
      "name": "python3",
      "display_name": "Python 3"
    },
    "language_info": {
      "name": "python"
    }
  },
  "cells": [
    {
      "cell_type": "code",
      "execution_count": null,
      "metadata": {
        "id": "D4mK_uCS_xUV"
      },
      "outputs": [],
      "source": [
        "class Solution:\n",
        "    def majorityElement(self, nums: List[int]) -> int:\n",
        "        res, count = nums[0],0\n",
        "        for i in range(len(nums)):\n",
        "            if nums[i] == res:\n",
        "                count +=1\n",
        "            else:\n",
        "                count -= 1\n",
        "\n",
        "            if count == 0:\n",
        "                res = nums[i+1]\n",
        "\n",
        "        return res\n",
        "\n",
        "# Boyer-Moore Voting Algorithm:\n",
        "\"\"\"\n",
        "class Solution:\n",
        "    def majorityElement(self, nums: List[int]) -> int:\n",
        "        candidate = None\n",
        "        count = 0\n",
        "\n",
        "        for num in nums:\n",
        "            if count == 0:\n",
        "                candidate = num\n",
        "            count += 1 if num == candidate else -1\n",
        "\n",
        "        return candidate\n",
        "\n",
        "\"\"\""
      ]
    }
  ]
}