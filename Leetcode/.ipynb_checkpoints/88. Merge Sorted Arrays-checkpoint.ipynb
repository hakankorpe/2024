{
 "cells": [
  {
   "cell_type": "code",
   "execution_count": 9,
   "id": "0b964216",
   "metadata": {},
   "outputs": [],
   "source": [
    "class Solution:\n",
    "    def merge(self, nums1: list[int], m: int, nums2: list[int], n: int) -> None:\n",
    "        \"\"\"\n",
    "        Do not return anything, modify nums1 in-place instead.\n",
    "        \"\"\"\n",
    "        # ptr1 to last checked index for nums1\n",
    "        # ptr2 to last checked index for nums2\n",
    "        placing = m+n-1\n",
    "        ptr1 = m-1\n",
    "        ptr2 = n-1\n",
    "        while placing >= 0 and ptr2>= 0 and m>= 0:\n",
    "            if nums2[ptr2] >= nums1[ptr1] or ptr1 < 0 or m==0:\n",
    "                nums1[placing] = nums2[ptr2]\n",
    "                ptr2 -= 1\n",
    "            else:\n",
    "                nums1[placing] = nums1[ptr1]\n",
    "                ptr1 -= 1\n",
    "            placing -=1\n",
    "            \n",
    "        print(nums1)"
   ]
  },
  {
   "cell_type": "code",
   "execution_count": 10,
   "id": "f91acdab",
   "metadata": {},
   "outputs": [
    {
     "name": "stdout",
     "output_type": "stream",
     "text": [
      "[1, 2, 2, 3, 5, 6]\n"
     ]
    }
   ],
   "source": [
    "# Test Case 1\n",
    "\n",
    "num1 = [1,2,3,0,0,0]\n",
    "num2 = [2,5,6]\n",
    "m = 3\n",
    "n = 3\n",
    "\n",
    "sol = Solution()\n",
    "sol.merge(num1, m, num2, n)"
   ]
  },
  {
   "cell_type": "code",
   "execution_count": null,
   "id": "eac0d617",
   "metadata": {},
   "outputs": [],
   "source": []
  }
 ],
 "metadata": {
  "kernelspec": {
   "display_name": "Python [conda env:anaconda3-jan4]",
   "language": "python",
   "name": "conda-env-anaconda3-jan4-py"
  },
  "language_info": {
   "codemirror_mode": {
    "name": "ipython",
    "version": 3
   },
   "file_extension": ".py",
   "mimetype": "text/x-python",
   "name": "python",
   "nbconvert_exporter": "python",
   "pygments_lexer": "ipython3",
   "version": "3.11.5"
  }
 },
 "nbformat": 4,
 "nbformat_minor": 5
}
