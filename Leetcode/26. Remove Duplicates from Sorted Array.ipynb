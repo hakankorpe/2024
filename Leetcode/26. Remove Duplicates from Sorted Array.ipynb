{
  "nbformat": 4,
  "nbformat_minor": 0,
  "metadata": {
    "colab": {
      "provenance": []
    },
    "kernelspec": {
      "name": "python3",
      "display_name": "Python 3"
    },
    "language_info": {
      "name": "python"
    }
  },
  "cells": [
    {
      "cell_type": "code",
      "execution_count": null,
      "metadata": {
        "id": "D4mK_uCS_xUV"
      },
      "outputs": [],
      "source": [
        "class Solution:\n",
        "    def removeDuplicates(self, nums: List[int]) -> int:\n",
        "        if not nums:\n",
        "            return 0\n",
        "\n",
        "        # Initialize a pointer to track the position where the next unique number should be placed\n",
        "        next_unique = 1\n",
        "\n",
        "        # Iterate through the array starting from the second element\n",
        "        for i in range(1, len(nums)):\n",
        "            # If the current number is different from the previous one,\n",
        "            # place it in the next available position for unique numbers\n",
        "            if nums[i] != nums[i - 1]:\n",
        "                nums[next_unique] = nums[i]\n",
        "                next_unique += 1\n",
        "\n",
        "        return next_unique\n",
        "\n",
        "\"\"\"class Solution:\n",
        "    def removeDuplicates(self, nums: List[int]) -> int:\n",
        "        seenNums= {}\n",
        "        count = 0\n",
        "        for i in range(len(nums)):\n",
        "            if nums[i] not in seenNums.values():\n",
        "                seenNums[i] = nums[i]\n",
        "                count+=1\n",
        "        i = 0\n",
        "        for num in seenNums.values():\n",
        "            nums[i] = num\n",
        "            i+=1\n",
        "\n",
        "\n",
        "        return count\"\"\""
      ]
    }
  ]
}