{
  "nbformat": 4,
  "nbformat_minor": 0,
  "metadata": {
    "colab": {
      "provenance": []
    },
    "kernelspec": {
      "name": "python3",
      "display_name": "Python 3"
    },
    "language_info": {
      "name": "python"
    }
  },
  "cells": [
    {
      "cell_type": "code",
      "execution_count": 1,
      "metadata": {
        "colab": {
          "base_uri": "https://localhost:8080/",
          "height": 70
        },
        "id": "PsmKQ4r4Z2GR",
        "outputId": "80f9925d-910a-4d0b-c796-f09bde9f6420"
      },
      "outputs": [
        {
          "output_type": "execute_result",
          "data": {
            "text/plain": [
              "'\\n\\nPassClasses\\n\\tJames is taking classes at a college and has exams for each class. You are given two arrays, scoresEarned, scoresNeeded and a variable X, indicating how many points he can get.\\n\\nWrite a function that calculates the maximum number of classes James can pass, if he distributes the X points optimally.\\n\\nFor example: scoresEarned = [3, 20, 100], scoresNeeded = [5, 40, 100], X = 17, return value: 2\\n\\n'"
            ],
            "application/vnd.google.colaboratory.intrinsic+json": {
              "type": "string"
            }
          },
          "metadata": {},
          "execution_count": 1
        }
      ],
      "source": [
        "\"\"\"\n",
        "\n",
        "PassClasses\n",
        "\tJames is taking classes at a college and has exams for each class. You are given two arrays, scoresEarned, scoresNeeded and a variable X,\n",
        "  indicating how many points he can get.\n",
        "\n",
        "Write a function that calculates the maximum number of classes James can pass, if he distributes the X points optimally.\n",
        "\n",
        "For example: scoresEarned = [3, 20, 100], scoresNeeded = [5, 40, 100], X = 17, return value: 2\n",
        "\n",
        "\"\"\""
      ]
    },
    {
      "cell_type": "code",
      "source": [
        "def passClasses(earned, needed, X):\n",
        "  notPassedList = []\n",
        "  for i in range(len(earned)):\n",
        "    note_diff = needed[i] - earned[i]\n",
        "    if note_diff > 0:\n",
        "      notPassedList.append(note_diff)\n",
        "\n",
        "  notPassedList = sorted(notPassedList)\n",
        "\n",
        "  while notPassedList[0] <= X:\n",
        "    X = X - notPassedList[0]\n",
        "    notPassedList.pop(0)\n",
        "  return len(earned) - len(notPassedList)"
      ],
      "metadata": {
        "id": "EXMnfNhGaGzo"
      },
      "execution_count": 43,
      "outputs": []
    },
    {
      "cell_type": "code",
      "source": [
        "scoresEarned = [3, 20, 100, 90, 60, 10, 23, 40, 34, 10, 100, 99, 32, 10, 22]\n",
        "scoresNeeded = [5, 40, 100, 12, 32, 10, 22, 44, 32, 22, 11, 20, 35, 33, 100]\n",
        "X = 90\n",
        "\n",
        "passClasses(scoresEarned, scoresNeeded, X)"
      ],
      "metadata": {
        "colab": {
          "base_uri": "https://localhost:8080/"
        },
        "id": "pSW6uY-lblTI",
        "outputId": "598b6751-97fd-45e5-d513-900d0e3a8bfc"
      },
      "execution_count": 44,
      "outputs": [
        {
          "output_type": "stream",
          "name": "stdout",
          "text": [
            "[2, 3, 4, 12, 20, 23, 78]\n",
            "88 2\n",
            "88 3\n",
            "85 3\n",
            "85 4\n",
            "81 4\n",
            "81 12\n",
            "69 12\n",
            "69 20\n",
            "49 20\n",
            "49 23\n",
            "26 23\n",
            "26 78\n",
            "6\n"
          ]
        },
        {
          "output_type": "execute_result",
          "data": {
            "text/plain": [
              "14"
            ]
          },
          "metadata": {},
          "execution_count": 44
        }
      ]
    },
    {
      "cell_type": "markdown",
      "source": [
        "## RemoveXLinkedList\n",
        "\n",
        "\n",
        "Given a singly linked list, remove all nodes that are greater than X.\n"
      ],
      "metadata": {
        "id": "Poa_g_FXtJcO"
      }
    },
    {
      "cell_type": "code",
      "source": [
        "class Node:\n",
        "    def __init__(self, value, next_node=None):\n",
        "        \"\"\"\n",
        "        Initializes a new node with the given value and next node reference.\n",
        "\n",
        "        Args:\n",
        "            value: The data value stored in the node.\n",
        "            next_node: Reference to the next node in the linked list (default None).\n",
        "        \"\"\"\n",
        "        self.data = value\n",
        "        self.next_node = next_node\n",
        "\n",
        "    def get_next(self):\n",
        "        \"\"\"\n",
        "        Returns the reference to the next node.\n",
        "\n",
        "        Returns:\n",
        "            Reference to the next node.\n",
        "        \"\"\"\n",
        "        return self.next_node\n",
        "\n",
        "    def set_next(self, next_node):\n",
        "        \"\"\"\n",
        "        Sets the reference to the next node.\n",
        "\n",
        "        Args:\n",
        "            next_node: Reference to the next node.\n",
        "        \"\"\"\n",
        "        self.next_node = next_node\n",
        "\n",
        "    def get_value(self):\n",
        "        \"\"\"\n",
        "        Returns the data value stored in the node.\n",
        "\n",
        "        Returns:\n",
        "            Data value stored in the node.\n",
        "        \"\"\"\n",
        "        return self.data\n",
        "\n",
        "    def set_value(self, value):\n",
        "        \"\"\"\n",
        "        Sets the data value stored in the node.\n",
        "\n",
        "        Args:\n",
        "            value: The new data value to be stored in the node.\n",
        "        \"\"\"\n",
        "        self.data = value\n",
        "\n",
        "\n",
        "\n",
        "class LinkedList:\n",
        "  def __init__(self, r= None):\n",
        "    self.size = 0\n",
        "    self.root = r\n",
        "\n",
        "\n",
        "  def get_size (self):\n",
        "        return self.size\n",
        "\n",
        "\n",
        "  def add(self, d):\n",
        "    new_node = Node(d, self.root)\n",
        "    self.root = new_node\n",
        "    self.size += 1\n",
        "\n",
        "\n",
        "  def remove(self, d):\n",
        "    this_node = self.root\n",
        "    prev_node = None\n",
        "\n",
        "    while this_node:\n",
        "      if this_node.get_value() == d:\n",
        "        if prev_node:\n",
        "          prev_node.set_next(this_node.get_next())\n",
        "        else:\n",
        "          self.root = this_node.get_next()\n",
        "        self.size -= 1\n",
        "        return True\n",
        "\n",
        "      else:\n",
        "        prev_node = this_node\n",
        "        this_node = this_node.get_next()\n",
        "\n",
        "    return False\n",
        "\n",
        "\n",
        "  def remove_greater_than_x(self, x):\n",
        "    this_node = self.root\n",
        "    prev_node = None\n",
        "    is_removed = False\n",
        "\n",
        "    while this_node:\n",
        "      if this_node.get_value() > x:\n",
        "        if prev_node:\n",
        "          prev_node.set_next(this_node.get_next())\n",
        "        else:\n",
        "          self.root = this_node.get_next()\n",
        "        self.size -= 1\n",
        "        is_removed = True\n",
        "\n",
        "      prev_node = this_node\n",
        "      this_node = this_node.get_next()\n",
        "\n",
        "    return is_removed\n",
        "\n",
        "\n",
        "  def find(self, d):\n",
        "    this_node = self.root\n",
        "\n",
        "    while this_node:\n",
        "      if this_node.get_value() == d:\n",
        "        return d\n",
        "      else:\n",
        "        this_node = this_node.get_next()\n",
        "\n",
        "    return None\n",
        "\n"
      ],
      "metadata": {
        "id": "wnIwXSBOdGGA"
      },
      "execution_count": 58,
      "outputs": []
    },
    {
      "cell_type": "code",
      "source": [
        "myList = LinkedList()\n",
        "myList.add(5)\n",
        "myList.add(8)\n",
        "myList.add(12)\n",
        "myList.add(1)\n",
        "myList.add(13)\n",
        "myList.add(120)\n",
        "\n",
        "print(\"size=\"+str(myList.get_size()))\n",
        "myList.remove_greater_than_x(6)\n",
        "print(\"size=\"+str(myList.get_size()))\n"
      ],
      "metadata": {
        "colab": {
          "base_uri": "https://localhost:8080/"
        },
        "id": "doPxt00M4o7V",
        "outputId": "7ea2c19b-2c77-4661-93b3-26b7d16f0872"
      },
      "execution_count": 59,
      "outputs": [
        {
          "output_type": "stream",
          "name": "stdout",
          "text": [
            "size=6\n",
            "size=2\n"
          ]
        }
      ]
    },
    {
      "cell_type": "markdown",
      "source": [
        "# NimSum\n",
        "Sam and alex are playing a new game where there are a number of piles, each with any number of stones in it.\n",
        "\n",
        "Players take turns removing stones from any one pile. the number removed has to be either an integer multiple of a given number, k where k > 0 if there are fewer than k stones in a pikle, any number can be removed Determine who wins the game.\n",
        "Sam always starts, they both play optimally, and the last player to remove a stone wins. If Sam wins, return ” Sam wins the game of n pile(s). “, where n is the number of piles in the input. If Alex wins, return ” Alex wins the game of n pile(s). “.\n",
        "The person who removes the last stone wins. Write the code in python def gameOfPiles(piles, k) where piles is an integer array containing piles\n"
      ],
      "metadata": {
        "id": "YlOUtlxZFM4e"
      }
    },
    {
      "cell_type": "markdown",
      "source": [
        "#Q7:Find smallest divisor given a threshold:\n",
        "https://takeuforward.org/arrays/find-the-smallest-divisor-given-a-threshold/\n",
        "\n"
      ],
      "metadata": {
        "id": "xRjDiM-qF5Og"
      }
    },
    {
      "cell_type": "code",
      "source": [],
      "metadata": {
        "id": "bVD4tdHDuf9S"
      },
      "execution_count": null,
      "outputs": []
    }
  ]
}