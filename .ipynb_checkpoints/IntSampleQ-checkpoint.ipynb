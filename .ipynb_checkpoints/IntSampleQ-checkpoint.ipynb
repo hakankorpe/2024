{
 "cells": [
  {
   "cell_type": "markdown",
   "metadata": {
    "colab": {
     "base_uri": "https://localhost:8080/",
     "height": 70
    },
    "id": "PsmKQ4r4Z2GR",
    "outputId": "80f9925d-910a-4d0b-c796-f09bde9f6420"
   },
   "source": [
    "\n",
    "\n",
    "# PassClasses\n",
    "\n",
    "\tJames is taking classes at a college and has exams for each class. You are given two arrays, scoresEarned, scoresNeeded and a variable X, indicating how many points he can get.\n",
    "    Write a function that calculates the maximum number of classes James can pass, if he distributes the X points optimally.\n",
    "    For example: scoresEarned = [3, 20, 100], scoresNeeded = [5, 40, 100], X = 17, return value: 2\n",
    "\n"
   ]
  },
  {
   "cell_type": "code",
   "execution_count": 1,
   "metadata": {
    "id": "EXMnfNhGaGzo"
   },
   "outputs": [],
   "source": [
    "def passClasses(earned, needed, X):\n",
    "  notPassedList = []\n",
    "  for i in range(len(earned)):\n",
    "    note_diff = needed[i] - earned[i]\n",
    "    if note_diff > 0:\n",
    "      notPassedList.append(note_diff)\n",
    "\n",
    "  notPassedList = sorted(notPassedList)\n",
    "\n",
    "  while notPassedList[0] <= X:\n",
    "    X = X - notPassedList[0]\n",
    "    notPassedList.pop(0)\n",
    "  return len(earned) - len(notPassedList)"
   ]
  },
  {
   "cell_type": "code",
   "execution_count": 2,
   "metadata": {
    "colab": {
     "base_uri": "https://localhost:8080/"
    },
    "id": "pSW6uY-lblTI",
    "outputId": "598b6751-97fd-45e5-d513-900d0e3a8bfc"
   },
   "outputs": [
    {
     "data": {
      "text/plain": [
       "14"
      ]
     },
     "execution_count": 2,
     "metadata": {},
     "output_type": "execute_result"
    }
   ],
   "source": [
    "scoresEarned = [3, 20, 100, 90, 60, 10, 23, 40, 34, 10, 100, 99, 32, 10, 22]\n",
    "scoresNeeded = [5, 40, 100, 12, 32, 10, 22, 44, 32, 22, 11, 20, 35, 33, 100]\n",
    "X = 90\n",
    "\n",
    "passClasses(scoresEarned, scoresNeeded, X)"
   ]
  },
  {
   "cell_type": "markdown",
   "metadata": {
    "id": "Poa_g_FXtJcO"
   },
   "source": [
    "## RemoveXLinkedList\n",
    "\n",
    "\n",
    "Given a singly linked list, remove all nodes that are greater than X.\n"
   ]
  },
  {
   "cell_type": "code",
   "execution_count": 3,
   "metadata": {
    "id": "wnIwXSBOdGGA"
   },
   "outputs": [],
   "source": [
    "class Node:\n",
    "    def __init__(self, value, next_node=None):\n",
    "        \"\"\"\n",
    "        Initializes a new node with the given value and next node reference.\n",
    "\n",
    "        Args:\n",
    "            value: The data value stored in the node.\n",
    "            next_node: Reference to the next node in the linked list (default None).\n",
    "        \"\"\"\n",
    "        self.data = value\n",
    "        self.next_node = next_node\n",
    "\n",
    "    def get_next(self):\n",
    "        \"\"\"\n",
    "        Returns the reference to the next node.\n",
    "\n",
    "        Returns:\n",
    "            Reference to the next node.\n",
    "        \"\"\"\n",
    "        return self.next_node\n",
    "\n",
    "    def set_next(self, next_node):\n",
    "        \"\"\"\n",
    "        Sets the reference to the next node.\n",
    "\n",
    "        Args:\n",
    "            next_node: Reference to the next node.\n",
    "        \"\"\"\n",
    "        self.next_node = next_node\n",
    "\n",
    "    def get_value(self):\n",
    "        \"\"\"\n",
    "        Returns the data value stored in the node.\n",
    "\n",
    "        Returns:\n",
    "            Data value stored in the node.\n",
    "        \"\"\"\n",
    "        return self.data\n",
    "\n",
    "    def set_value(self, value):\n",
    "        \"\"\"\n",
    "        Sets the data value stored in the node.\n",
    "\n",
    "        Args:\n",
    "            value: The new data value to be stored in the node.\n",
    "        \"\"\"\n",
    "        self.data = value\n",
    "\n",
    "\n",
    "\n",
    "class LinkedList:\n",
    "  def __init__(self, r= None):\n",
    "    self.size = 0\n",
    "    self.root = r\n",
    "\n",
    "\n",
    "  def get_size (self):\n",
    "        return self.size\n",
    "\n",
    "\n",
    "  def add(self, d):\n",
    "    new_node = Node(d, self.root)\n",
    "    self.root = new_node\n",
    "    self.size += 1\n",
    "\n",
    "\n",
    "  def remove(self, d):\n",
    "    this_node = self.root\n",
    "    prev_node = None\n",
    "\n",
    "    while this_node:\n",
    "      if this_node.get_value() == d:\n",
    "        if prev_node:\n",
    "          prev_node.set_next(this_node.get_next())\n",
    "        else:\n",
    "          self.root = this_node.get_next()\n",
    "        self.size -= 1\n",
    "        return True\n",
    "\n",
    "      else:\n",
    "        prev_node = this_node\n",
    "        this_node = this_node.get_next()\n",
    "\n",
    "    return False\n",
    "\n",
    "\n",
    "  def remove_greater_than_x(self, x):\n",
    "    this_node = self.root\n",
    "    prev_node = None\n",
    "    is_removed = False\n",
    "\n",
    "    while this_node:\n",
    "      if this_node.get_value() > x:\n",
    "        if prev_node:\n",
    "          prev_node.set_next(this_node.get_next())\n",
    "        else:\n",
    "          self.root = this_node.get_next()\n",
    "        self.size -= 1\n",
    "        is_removed = True\n",
    "\n",
    "      prev_node = this_node\n",
    "      this_node = this_node.get_next()\n",
    "\n",
    "    return is_removed\n",
    "\n",
    "\n",
    "  def find(self, d):\n",
    "    this_node = self.root\n",
    "\n",
    "    while this_node:\n",
    "      if this_node.get_value() == d:\n",
    "        return d\n",
    "      else:\n",
    "        this_node = this_node.get_next()\n",
    "\n",
    "    return None\n",
    "\n"
   ]
  },
  {
   "cell_type": "code",
   "execution_count": 4,
   "metadata": {
    "colab": {
     "base_uri": "https://localhost:8080/"
    },
    "id": "doPxt00M4o7V",
    "outputId": "7ea2c19b-2c77-4661-93b3-26b7d16f0872"
   },
   "outputs": [
    {
     "name": "stdout",
     "output_type": "stream",
     "text": [
      "size=6\n",
      "size=2\n"
     ]
    }
   ],
   "source": [
    "myList = LinkedList()\n",
    "myList.add(5)\n",
    "myList.add(8)\n",
    "myList.add(12)\n",
    "myList.add(1)\n",
    "myList.add(13)\n",
    "myList.add(120)\n",
    "\n",
    "print(\"size=\"+str(myList.get_size()))\n",
    "myList.remove_greater_than_x(6)\n",
    "print(\"size=\"+str(myList.get_size()))\n"
   ]
  },
  {
   "cell_type": "markdown",
   "metadata": {
    "id": "YlOUtlxZFM4e"
   },
   "source": [
    "# NimSum\n",
    "Sam and alex are playing a new game where there are a number of piles, each with any number of stones in it.\n",
    "\n",
    "Players take turns removing stones from any one pile. the number removed has to be either an integer multiple of a given number, k where k > 0 if there are fewer than k stones in a pikle, any number can be removed Determine who wins the game.\n",
    "Sam always starts, they both play optimally, and the last player to remove a stone wins. If Sam wins, return ” Sam wins the game of n pile(s). “, where n is the number of piles in the input. If Alex wins, return ” Alex wins the game of n pile(s). “.\n",
    "The person who removes the last stone wins. Write the code in python def gameOfPiles(piles, k) where piles is an integer array containing piles\n"
   ]
  },
  {
   "cell_type": "markdown",
   "metadata": {
    "id": "xRjDiM-qF5Og"
   },
   "source": [
    "# Q7:Find smallest divisor given a threshold:\n",
    "Problem Statement: You are given an array of integers ‘arr’ and an integer i.e. a threshold value ‘limit’. Your task is to find the smallest positive integer divisor, such that upon dividing all the elements of the given array by it, the sum of the division’s result is less than or equal to the given threshold value.\n"
   ]
  },
  {
   "cell_type": "code",
   "execution_count": 49,
   "metadata": {},
   "outputs": [],
   "source": [
    "import math"
   ]
  },
  {
   "cell_type": "code",
   "execution_count": 50,
   "metadata": {
    "id": "bVD4tdHDuf9S"
   },
   "outputs": [],
   "source": [
    "#Brute Force Approach\n",
    "\n",
    "def find_smallest_divisor(arr, limit):\n",
    "    result = 0\n",
    "    smallest = 1\n",
    "    while True:\n",
    "        for i in arr:\n",
    "            result += math.ceil(i / smallest)            \n",
    "        #print(result)\n",
    "        if result < limit:\n",
    "            break\n",
    "        smallest += 1\n",
    "        if result == 5:\n",
    "            return None\n",
    "            \n",
    "        result = 0\n",
    "        \n",
    "    return smallest\n",
    "        \n",
    "        "
   ]
  },
  {
   "cell_type": "code",
   "execution_count": 51,
   "metadata": {},
   "outputs": [
    {
     "name": "stdout",
     "output_type": "stream",
     "text": [
      "3\n"
     ]
    }
   ],
   "source": [
    "arr = [1,2,3,4,5]\n",
    "limit = 8\n",
    "print(find_smallest_divisor(arr, limit))"
   ]
  },
  {
   "cell_type": "code",
   "execution_count": 52,
   "metadata": {},
   "outputs": [],
   "source": [
    "#Binary Search Approach\n",
    "\n",
    "def find_smallest_divisor(arr, limit):\n",
    "    left, right = 1, max(arr)  # Define the range of possible divisors\n",
    "    \n",
    "    while left < right:\n",
    "        mid = left + (right - left) // 2  # Calculate the mid point\n",
    "        \n",
    "        # Calculate the sum of divisions for all elements using the current divisor\n",
    "        total = sum(math.ceil(num / mid) for num in arr)\n",
    "        \n",
    "        if total > limit:\n",
    "            left = mid + 1  # Adjust the left boundary if the sum is greater than the limit\n",
    "        else:\n",
    "            right = mid  # Adjust the right boundary if the sum is less than or equal to the limit\n",
    "    \n",
    "    return left  # Return the smallest divisor\n"
   ]
  },
  {
   "cell_type": "code",
   "execution_count": 53,
   "metadata": {},
   "outputs": [
    {
     "name": "stdout",
     "output_type": "stream",
     "text": [
      "2\n"
     ]
    }
   ],
   "source": [
    "arr = [8,4,2,3]\n",
    "limit = 10\n",
    "print(find_smallest_divisor(arr, limit))"
   ]
  },
  {
   "cell_type": "markdown",
   "metadata": {},
   "source": [
    "# LongestStreak:\n",
    "\n",
    "You are an employer, and want to keep track of your employees’ attendance. You have data corresponding to each day in the form of 'YN' where Y indicates that indexed employee was present while N indicates they werent.\n",
    "\n",
    "Implement a function named longestStreak(m,data), where m is the number of employees, and data contains an array of strings made up of Y or Ns.\n",
    "\n",
    "this function should find the longest consecutive  back to back streak of [DAYS where EVERY  employees came to work.]\n"
   ]
  },
  {
   "cell_type": "code",
   "execution_count": 4,
   "metadata": {},
   "outputs": [],
   "source": [
    "def findLongestStreak(m,data):\n",
    "    streak = 0\n",
    "    longest_streak = 0\n",
    "    \n",
    "    for i in data:\n",
    "        if \"N\" not in i:\n",
    "            streak += 1\n",
    "        elif streak > longest_streak:\n",
    "            longest_streak = streak\n",
    "        else:\n",
    "            streak = 0\n",
    "        \n",
    "    if streak > longest_streak:\n",
    "            longest_streak = streak\n",
    "    return longest_streak"
   ]
  },
  {
   "cell_type": "code",
   "execution_count": 6,
   "metadata": {},
   "outputs": [
    {
     "data": {
      "text/plain": [
       "3"
      ]
     },
     "execution_count": 6,
     "metadata": {},
     "output_type": "execute_result"
    }
   ],
   "source": [
    "arr = [\"YNY\", \"YYY\", \"YNN\", \"NYY\", \"NNN\", \"YYY\", \"YYY\", \"YYY\", \"YNY\", \"YYN\", \"YNN\", \"YYY\", \"YYY\", \"NYY\", \"YNY\", \n",
    "       \"YYY\", \"YYY\", \"NNN\", \"YYY\", \"YYY\"]\n",
    "findLongestStreak(len(arr[0]), arr)"
   ]
  },
  {
   "cell_type": "markdown",
   "metadata": {},
   "source": [
    "# Reassign\n",
    "\n",
    "Reassigning priority.\n",
    "\n",
    "You run a store with products. Each product has a product id.\n",
    "\n",
    "You used to have a lot of products, so each product id number was very high, like 2913712 or 1203814\n",
    "\n",
    "Now, you have less products, and want to reassign the numbers. Create a function that reassigns the numbers for each product, while keeping the same order between products. You want to minimize every number as much as possible.\n",
    "    \n",
    "data = [1,3,7,3]\n",
    "\n",
    "new_data = reassign(data)\n",
    "new_data = [1,2,3,2]\n"
   ]
  },
  {
   "cell_type": "code",
   "execution_count": 34,
   "metadata": {},
   "outputs": [],
   "source": [
    "def reassign(data):\n",
    "    ordered_list = sorted(set(data))\n",
    "    #print(ordered_list)\n",
    "    ordered_dict = {ordered_list[k]: k+1 for k in range(len(ordered_list))}\n",
    "    #print(ordered_dict)\n",
    "    new_data = [ordered_dict[i] for i in data]\n",
    "\n",
    "    return new_data"
   ]
  },
  {
   "cell_type": "code",
   "execution_count": 35,
   "metadata": {},
   "outputs": [
    {
     "data": {
      "text/plain": [
       "[1, 4, 2, 3, 2]"
      ]
     },
     "execution_count": 35,
     "metadata": {},
     "output_type": "execute_result"
    }
   ],
   "source": [
    "data = [1,8,3,7,3]\n",
    "reassign(data)"
   ]
  },
  {
   "cell_type": "markdown",
   "metadata": {},
   "source": [
    "# GridWalk\n",
    "\t\n",
    "\tGiven a square grid and an array of commands, consisting of either LEFT, UP, DOWN or RIGHT, what is the end position, if we start at coordinates x, y? GridWalk(coords,  commands, gridSize)\n"
   ]
  },
  {
   "cell_type": "code",
   "execution_count": 63,
   "metadata": {},
   "outputs": [],
   "source": [
    "def gridWalk(coords, commands, gridSize):\n",
    "    step = 1\n",
    "    for i in commands:\n",
    "        if i == \"LEFT\":\n",
    "            coords = (coords[0]-1, coords[1])\n",
    "        elif i == \"RIGHT\":\n",
    "            coords = (coords[0]+1, coords[1])\n",
    "        elif i == \"UP\":\n",
    "            coords = (coords[0], coords[1]+1)\n",
    "        else:\n",
    "            coords = (coords[0], coords[1]-1)\n",
    "            \n",
    "        \n",
    "        if (gridSize+1) in coords or 0 in coords:\n",
    "            print(\"Out of the grid\")\n",
    "            return None\n",
    "        print(f\"I am in {coords} coordinates in the step {step}\")\n",
    "        step += 1\n",
    "    \n",
    "    return coords"
   ]
  },
  {
   "cell_type": "code",
   "execution_count": 64,
   "metadata": {},
   "outputs": [
    {
     "name": "stdout",
     "output_type": "stream",
     "text": [
      "I am in (2, 4) coordinates in the step 1\n",
      "I am in (3, 4) coordinates in the step 2\n",
      "I am in (3, 3) coordinates in the step 3\n",
      "I am in (3, 2) coordinates in the step 4\n",
      "I am in (3, 1) coordinates in the step 5\n",
      "I am in (4, 1) coordinates in the step 6\n",
      "I am in (4, 2) coordinates in the step 7\n",
      "I am in (5, 2) coordinates in the step 8\n"
     ]
    },
    {
     "data": {
      "text/plain": [
       "(5, 2)"
      ]
     },
     "execution_count": 64,
     "metadata": {},
     "output_type": "execute_result"
    }
   ],
   "source": [
    "coord = (3,4)\n",
    "commands = (\"LEFT\", \"RIGHT\", \"DOWN\", \"DOWN\", \"DOWN\", \"RIGHT\", \"UP\", \"RIGHT\")\n",
    "gridSize = 5\n",
    "\n",
    "gridWalk(coord, commands, gridSize)"
   ]
  },
  {
   "cell_type": "code",
   "execution_count": null,
   "metadata": {},
   "outputs": [],
   "source": []
  }
 ],
 "metadata": {
  "colab": {
   "provenance": []
  },
  "kernelspec": {
   "display_name": "Python 3 (ipykernel)",
   "language": "python",
   "name": "python3"
  },
  "language_info": {
   "codemirror_mode": {
    "name": "ipython",
    "version": 3
   },
   "file_extension": ".py",
   "mimetype": "text/x-python",
   "name": "python",
   "nbconvert_exporter": "python",
   "pygments_lexer": "ipython3",
   "version": "3.9.12"
  }
 },
 "nbformat": 4,
 "nbformat_minor": 1
}
