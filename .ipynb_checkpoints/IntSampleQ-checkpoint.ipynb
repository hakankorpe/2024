{
 "cells": [
  {
   "cell_type": "markdown",
   "metadata": {
    "colab": {
     "base_uri": "https://localhost:8080/",
     "height": 70
    },
    "id": "PsmKQ4r4Z2GR",
    "outputId": "80f9925d-910a-4d0b-c796-f09bde9f6420"
   },
   "source": [
    "\n",
    "\n",
    "# PassClasses\n",
    "\n",
    "\tJames is taking classes at a college and has exams for each class. You are given two arrays, scoresEarned, scoresNeeded and a variable X, indicating how many points he can get.\n",
    "    Write a function that calculates the maximum number of classes James can pass, if he distributes the X points optimally.\n",
    "    For example: scoresEarned = [3, 20, 100], scoresNeeded = [5, 40, 100], X = 17, return value: 2\n",
    "\n"
   ]
  },
  {
   "cell_type": "code",
   "execution_count": 1,
   "metadata": {
    "id": "EXMnfNhGaGzo"
   },
   "outputs": [],
   "source": [
    "def passClasses(earned, needed, X):\n",
    "  notPassedList = []\n",
    "  for i in range(len(earned)):\n",
    "    note_diff = needed[i] - earned[i]\n",
    "    if note_diff > 0:\n",
    "      notPassedList.append(note_diff)\n",
    "\n",
    "  notPassedList = sorted(notPassedList)\n",
    "\n",
    "  while notPassedList[0] <= X:\n",
    "    X = X - notPassedList[0]\n",
    "    notPassedList.pop(0)\n",
    "  return len(earned) - len(notPassedList)"
   ]
  },
  {
   "cell_type": "code",
   "execution_count": 2,
   "metadata": {
    "colab": {
     "base_uri": "https://localhost:8080/"
    },
    "id": "pSW6uY-lblTI",
    "outputId": "598b6751-97fd-45e5-d513-900d0e3a8bfc"
   },
   "outputs": [
    {
     "data": {
      "text/plain": [
       "14"
      ]
     },
     "execution_count": 2,
     "metadata": {},
     "output_type": "execute_result"
    }
   ],
   "source": [
    "scoresEarned = [3, 20, 100, 90, 60, 10, 23, 40, 34, 10, 100, 99, 32, 10, 22]\n",
    "scoresNeeded = [5, 40, 100, 12, 32, 10, 22, 44, 32, 22, 11, 20, 35, 33, 100]\n",
    "X = 90\n",
    "\n",
    "passClasses(scoresEarned, scoresNeeded, X)"
   ]
  },
  {
   "cell_type": "markdown",
   "metadata": {
    "id": "Poa_g_FXtJcO"
   },
   "source": [
    "## RemoveXLinkedList\n",
    "\n",
    "\n",
    "Given a singly linked list, remove all nodes that are greater than X.\n"
   ]
  },
  {
   "cell_type": "code",
   "execution_count": 3,
   "metadata": {
    "id": "wnIwXSBOdGGA"
   },
   "outputs": [],
   "source": [
    "class Node:\n",
    "    def __init__(self, value, next_node=None):\n",
    "        \"\"\"\n",
    "        Initializes a new node with the given value and next node reference.\n",
    "\n",
    "        Args:\n",
    "            value: The data value stored in the node.\n",
    "            next_node: Reference to the next node in the linked list (default None).\n",
    "        \"\"\"\n",
    "        self.data = value\n",
    "        self.next_node = next_node\n",
    "\n",
    "    def get_next(self):\n",
    "        \"\"\"\n",
    "        Returns the reference to the next node.\n",
    "\n",
    "        Returns:\n",
    "            Reference to the next node.\n",
    "        \"\"\"\n",
    "        return self.next_node\n",
    "\n",
    "    def set_next(self, next_node):\n",
    "        \"\"\"\n",
    "        Sets the reference to the next node.\n",
    "\n",
    "        Args:\n",
    "            next_node: Reference to the next node.\n",
    "        \"\"\"\n",
    "        self.next_node = next_node\n",
    "\n",
    "    def get_value(self):\n",
    "        \"\"\"\n",
    "        Returns the data value stored in the node.\n",
    "\n",
    "        Returns:\n",
    "            Data value stored in the node.\n",
    "        \"\"\"\n",
    "        return self.data\n",
    "\n",
    "    def set_value(self, value):\n",
    "        \"\"\"\n",
    "        Sets the data value stored in the node.\n",
    "\n",
    "        Args:\n",
    "            value: The new data value to be stored in the node.\n",
    "        \"\"\"\n",
    "        self.data = value\n",
    "\n",
    "\n",
    "\n",
    "class LinkedList:\n",
    "  def __init__(self, r= None):\n",
    "    self.size = 0\n",
    "    self.root = r\n",
    "\n",
    "\n",
    "  def get_size (self):\n",
    "        return self.size\n",
    "\n",
    "\n",
    "  def add(self, d):\n",
    "    new_node = Node(d, self.root)\n",
    "    self.root = new_node\n",
    "    self.size += 1\n",
    "\n",
    "\n",
    "  def remove(self, d):\n",
    "    this_node = self.root\n",
    "    prev_node = None\n",
    "\n",
    "    while this_node:\n",
    "      if this_node.get_value() == d:\n",
    "        if prev_node:\n",
    "          prev_node.set_next(this_node.get_next())\n",
    "        else:\n",
    "          self.root = this_node.get_next()\n",
    "        self.size -= 1\n",
    "        return True\n",
    "\n",
    "      else:\n",
    "        prev_node = this_node\n",
    "        this_node = this_node.get_next()\n",
    "\n",
    "    return False\n",
    "\n",
    "\n",
    "  def remove_greater_than_x(self, x):\n",
    "    this_node = self.root\n",
    "    prev_node = None\n",
    "    is_removed = False\n",
    "\n",
    "    while this_node:\n",
    "      if this_node.get_value() > x:\n",
    "        if prev_node:\n",
    "          prev_node.set_next(this_node.get_next())\n",
    "        else:\n",
    "          self.root = this_node.get_next()\n",
    "        self.size -= 1\n",
    "        is_removed = True\n",
    "\n",
    "      prev_node = this_node\n",
    "      this_node = this_node.get_next()\n",
    "\n",
    "    return is_removed\n",
    "\n",
    "\n",
    "  def find(self, d):\n",
    "    this_node = self.root\n",
    "\n",
    "    while this_node:\n",
    "      if this_node.get_value() == d:\n",
    "        return d\n",
    "      else:\n",
    "        this_node = this_node.get_next()\n",
    "\n",
    "    return None\n",
    "\n"
   ]
  },
  {
   "cell_type": "code",
   "execution_count": 4,
   "metadata": {
    "colab": {
     "base_uri": "https://localhost:8080/"
    },
    "id": "doPxt00M4o7V",
    "outputId": "7ea2c19b-2c77-4661-93b3-26b7d16f0872"
   },
   "outputs": [
    {
     "name": "stdout",
     "output_type": "stream",
     "text": [
      "size=6\n",
      "size=2\n"
     ]
    }
   ],
   "source": [
    "myList = LinkedList()\n",
    "myList.add(5)\n",
    "myList.add(8)\n",
    "myList.add(12)\n",
    "myList.add(1)\n",
    "myList.add(13)\n",
    "myList.add(120)\n",
    "\n",
    "print(\"size=\"+str(myList.get_size()))\n",
    "myList.remove_greater_than_x(6)\n",
    "print(\"size=\"+str(myList.get_size()))\n"
   ]
  },
  {
   "cell_type": "markdown",
   "metadata": {
    "id": "YlOUtlxZFM4e"
   },
   "source": [
    "# NimSum\n",
    "Sam and alex are playing a new game where there are a number of piles, each with any number of stones in it.\n",
    "\n",
    "Players take turns removing stones from any one pile. the number removed has to be either an integer multiple of a given number, k where k > 0 if there are fewer than k stones in a pikle, any number can be removed Determine who wins the game.\n",
    "Sam always starts, they both play optimally, and the last player to remove a stone wins. If Sam wins, return ” Sam wins the game of n pile(s). “, where n is the number of piles in the input. If Alex wins, return ” Alex wins the game of n pile(s). “.\n",
    "The person who removes the last stone wins. Write the code in python def gameOfPiles(piles, k) where piles is an integer array containing piles\n"
   ]
  },
  {
   "cell_type": "markdown",
   "metadata": {
    "id": "xRjDiM-qF5Og"
   },
   "source": [
    "# Q7:Find smallest divisor given a threshold:\n",
    "Problem Statement: You are given an array of integers ‘arr’ and an integer i.e. a threshold value ‘limit’. Your task is to find the smallest positive integer divisor, such that upon dividing all the elements of the given array by it, the sum of the division’s result is less than or equal to the given threshold value.\n"
   ]
  },
  {
   "cell_type": "code",
   "execution_count": 25,
   "metadata": {
    "id": "bVD4tdHDuf9S"
   },
   "outputs": [],
   "source": [
    "def find_smallest_divisor(arr, limit):\n",
    "    result = 0\n",
    "    smallest = 1\n",
    "    while True:\n",
    "        for i in arr:\n",
    "            result += i / smallest\n",
    "            print(int(result))\n",
    "            \n",
    "        print(result)\n",
    "        if result < limit:\n",
    "            break\n",
    "        smallest += 1\n",
    "        \n",
    "            \n",
    "        result = 0\n",
    "        \n",
    "    return smallest\n",
    "        \n",
    "        "
   ]
  },
  {
   "cell_type": "code",
   "execution_count": 26,
   "metadata": {},
   "outputs": [
    {
     "name": "stdout",
     "output_type": "stream",
     "text": [
      "10\n",
      "12\n",
      "15\n",
      "37\n",
      "49\n",
      "60\n",
      "91\n",
      "123\n",
      "140\n",
      "145\n",
      "158\n",
      "158.0\n",
      "5\n",
      "6\n",
      "7\n",
      "18\n",
      "24\n",
      "30\n",
      "45\n",
      "61\n",
      "70\n",
      "72\n",
      "79\n",
      "79.0\n",
      "3\n",
      "4\n",
      "5\n",
      "12\n",
      "16\n",
      "20\n",
      "30\n",
      "41\n",
      "46\n",
      "48\n",
      "52\n",
      "52.666666666666664\n",
      "2\n",
      "3\n",
      "3\n",
      "9\n",
      "12\n",
      "15\n",
      "22\n",
      "30\n",
      "35\n",
      "36\n",
      "39\n",
      "39.5\n"
     ]
    },
    {
     "data": {
      "text/plain": [
       "4"
      ]
     },
     "execution_count": 26,
     "metadata": {},
     "output_type": "execute_result"
    }
   ],
   "source": [
    "arr = [10, 2, 3, 22, 12, 11, 31, 32, 17, 5, 13]\n",
    "limit = 50\n",
    "find_smallest_divisor(arr, limit)"
   ]
  },
  {
   "cell_type": "code",
   "execution_count": null,
   "metadata": {},
   "outputs": [],
   "source": []
  }
 ],
 "metadata": {
  "colab": {
   "provenance": []
  },
  "kernelspec": {
   "display_name": "Python 3 (ipykernel)",
   "language": "python",
   "name": "python3"
  },
  "language_info": {
   "codemirror_mode": {
    "name": "ipython",
    "version": 3
   },
   "file_extension": ".py",
   "mimetype": "text/x-python",
   "name": "python",
   "nbconvert_exporter": "python",
   "pygments_lexer": "ipython3",
   "version": "3.9.12"
  }
 },
 "nbformat": 4,
 "nbformat_minor": 1
}
